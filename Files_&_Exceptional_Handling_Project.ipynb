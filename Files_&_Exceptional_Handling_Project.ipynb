{
  "cells": [
    {
      "cell_type": "markdown",
      "metadata": {
        "id": "Wv-1FTdTlghv"
      },
      "source": [
        "## Files & Exceptional Handling Assigement"
      ]
    },
    {
      "cell_type": "markdown",
      "metadata": {
        "id": "aOphj06blghx"
      },
      "source": [
        "### Q1. Discuss scenarios where multithreading is preferable to multiprocessing and scenarios where multiprocessing is a better choice."
      ]
    },
    {
      "attachments": {
        "image.png": {
          "image/png": "[encoded data removed]"
        }
      },
      "cell_type": "markdown",
      "metadata": {
        "id": "YxcYcA0Mlghy"
      },
      "source": [
        "![image.png](attachment:image.png)"
      ]
    },
    {
      "cell_type": "markdown",
      "metadata": {
        "id": "yoF2WSdGlghy"
      },
      "source": []
    },
    {
      "cell_type": "markdown",
      "metadata": {
        "id": "_n-cgX0_lghy"
      },
      "source": [
        "### Q2. Describe what a process pool is and how it helps in managing multiple processes efficiently."
      ]
    },
    {
      "cell_type": "markdown",
      "metadata": {
        "id": "KkOWoNHOlghy"
      },
      "source": [
        "#### A process pool is a collection of pre-initialized worker processes to which tasks can be assigned. It helps in managing multiple processes efficiently by:\n",
        "##### •\tReducing overhead. Instead of spawning new processes for each task, the pool reuses existing ones.\n",
        "##### •\tManaging concurrency. It allows easy parallel execution of tasks, controls the number of worker processes, and distributes the workload evenly.\n",
        "##### •\tSimplifying parallelism. With libraries like `multiprocessing.Pool`, it provides easy-to-use interfaces for parallel execution.\n",
        "\n"
      ]
    },
    {
      "cell_type": "markdown",
      "metadata": {
        "id": "Sq1e9Ccilghz"
      },
      "source": []
    },
    {
      "cell_type": "markdown",
      "metadata": {
        "id": "zAiTWGW7lghz"
      },
      "source": [
        "### Q3. Explain what multiprocessing is and why it is used in Python programs."
      ]
    },
    {
      "cell_type": "markdown",
      "metadata": {
        "id": "VokSmbIblghz"
      },
      "source": [
        "#### Multiprocessing in Python refers to using multiple CPU cores by running multiple processes concurrently. It is used to:\n",
        "##### •\tAchieve parallelism for CPU-bound tasks.\n",
        "##### •\tBypass Python's GIL, which limits multithreading efficiency for CPU-bound operations.\n",
        "##### •\tImprove performance for tasks that require intensive computation, like numerical simulations or large-scale data processing.\n"
      ]
    },
    {
      "cell_type": "markdown",
      "metadata": {
        "id": "jpx8-CMzlghz"
      },
      "source": [
        "### Q4. Write a Python program using multithreading where one thread adds numbers to a list, and another thread removes numbers from the list. Implement a mechanism to avoid race conditions using `threading.Lock`."
      ]
    },
    {
      "cell_type": "code",
      "execution_count": null,
      "metadata": {
        "id": "5GCEEQN9lgh0",
        "outputId": "dc138c47-eb3d-4c6b-e4c2-ead0e6ae913e"
      },
      "outputs": [
        {
          "name": "stdout",
          "output_type": "stream",
          "text": [
            "Adding 0\n",
            "Removed 0\n",
            "Adding 1\n",
            "Removed 1\n",
            "Adding 2\n",
            "Adding 3\n",
            "Removed 2\n",
            "Removed 3\n",
            "Adding 4\n",
            "Adding 5\n",
            "Removed 4\n",
            "Adding 6\n",
            "Removed 5\n",
            "Removed 6\n",
            "Adding 7\n",
            "Adding 8\n",
            "Removed 7\n",
            "Adding 9\n",
            "Removed 8\n",
            "Removed 9\n",
            "All numbers added and removed.\n"
          ]
        }
      ],
      "source": [
        "import threading\n",
        "import time\n",
        "\n",
        "# Shared resource\n",
        "numbers = []\n",
        "\n",
        "# Lock for avoiding race conditions\n",
        "lock = threading.Lock()\n",
        "\n",
        "# Variable to signal when addition is complete\n",
        "adding_complete = False\n",
        "\n",
        "# Thread to add numbers to the list\n",
        "def add_numbers():\n",
        "    global numbers, adding_complete\n",
        "    for i in range(10):\n",
        "        with lock:  # Acquire lock to ensure safe access\n",
        "            print(f\"Adding {i}\")\n",
        "            numbers.append(i)\n",
        "        time.sleep(1)  # Simulate some work being done\n",
        "    # Mark adding as complete\n",
        "    with lock:\n",
        "        adding_complete = True\n",
        "\n",
        "# Thread to remove numbers from the list\n",
        "def remove_numbers():\n",
        "    global numbers, adding_complete\n",
        "    while True:\n",
        "        with lock:  # Acquire lock to ensure safe access\n",
        "            if numbers:  # Only remove if there are elements in the list\n",
        "                num = numbers.pop(0)\n",
        "                print(f\"Removed {num}\")\n",
        "            elif adding_complete:\n",
        "                break  # Exit the loop if all numbers have been added and removed\n",
        "        time.sleep(1)  # Simulate some work being done\n",
        "\n",
        "# Create threads\n",
        "adder_thread = threading.Thread(target=add_numbers)\n",
        "remover_thread = threading.Thread(target=remove_numbers)\n",
        "\n",
        "# Start threads\n",
        "adder_thread.start()\n",
        "remover_thread.start()\n",
        "\n",
        "# Join threads to ensure completion\n",
        "adder_thread.join()\n",
        "remover_thread.join()\n",
        "\n",
        "print(\"All numbers added and removed.\")\n"
      ]
    },
    {
      "cell_type": "markdown",
      "metadata": {
        "id": "jU1wY1U2lgh1"
      },
      "source": []
    },
    {
      "cell_type": "markdown",
      "metadata": {
        "id": "q18rAaUClgh1"
      },
      "source": [
        "### Q5. Describe the methods and tools available in Python for safely sharing data between threads and processes."
      ]
    },
    {
      "cell_type": "markdown",
      "metadata": {
        "id": "oRwpd3tflgh1"
      },
      "source": [
        "#### For threads:\n",
        "##### •\tthreading.Lock: Ensures that only one thread can access a shared resource at a time, avoiding race conditions.\n",
        "##### •\tthreading.RLock: A reentrant lock that allows the same thread to acquire the lock multiple times.\n",
        "##### •\tthreading.Queue: A thread-safe FIFO queue that can be used to pass data between threads safely.\n",
        "\n",
        "#### For processes:\n",
        "##### •\tmultiprocessing.Queue: A process-safe queue for inter-process communication (IPC).\n",
        "##### •\tmultiprocessing.Value and multiprocessing.Array: Shared memory objects that can be used for primitive data types and arrays, allowing safe data sharing between processes.\n",
        "\n"
      ]
    },
    {
      "cell_type": "markdown",
      "metadata": {
        "id": "wSTFw4q1lgh1"
      },
      "source": []
    },
    {
      "cell_type": "markdown",
      "metadata": {
        "id": "st5XdFWblgh1"
      },
      "source": [
        "### Q6. Discuss why it’s crucial to handle exceptions in concurrent programs and the techniques available for doing so."
      ]
    },
    {
      "cell_type": "markdown",
      "metadata": {
        "id": "eGqM18_ulgh1"
      },
      "source": [
        "#### Handling exceptions in concurrent programs is crucial because:\n",
        "##### •\tUnhandled exceptions in one thread/process can affect the entire program or lead to unexpected behavior.\n",
        "##### •\tIt ensures reliability, as tasks might fail due to external factors (e.g., network failure, resource unavailability).\n",
        "\n",
        "#### Techniques include:\n",
        "##### •\tTry-except blocks around critical sections of code.\n",
        "##### •\tUsing concurrent futures to capture and handle exceptions in thread pools or process pools.\n",
        "##### •\tThreading.Event for inter-thread signaling in case of failure.\n",
        "\n"
      ]
    },
    {
      "cell_type": "markdown",
      "metadata": {
        "id": "zNP23ljOlgh2"
      },
      "source": []
    },
    {
      "cell_type": "markdown",
      "metadata": {
        "id": "Hy9ROFTWlgh2"
      },
      "source": [
        "### Q7. Create a program that uses a thread pool to calculate the factorial of numbers from 1 to 10 concurrently. Use `concurrent.futures.ThreadPoolExecutor` to manage the threads."
      ]
    },
    {
      "cell_type": "code",
      "execution_count": null,
      "metadata": {
        "id": "a5pkUoQDlgh2",
        "outputId": "f14a09ed-9513-4bb8-ad18-e70e58a24071"
      },
      "outputs": [
        {
          "name": "stdout",
          "output_type": "stream",
          "text": [
            "Factorials: [1, 2, 6, 24, 120, 720, 5040, 40320, 362880, 3628800]\n"
          ]
        }
      ],
      "source": [
        "import concurrent.futures\n",
        "import math\n",
        "\n",
        "# Function to calculate factorial\n",
        "def factorial(n):\n",
        "    return math.factorial(n)\n",
        "\n",
        "# List of numbers\n",
        "numbers = list(range(1, 11))\n",
        "\n",
        "# Using ThreadPoolExecutor\n",
        "with concurrent.futures.ThreadPoolExecutor() as executor:\n",
        "    results = list(executor.map(factorial, numbers))\n",
        "\n",
        "print(\"Factorials:\", results)\n"
      ]
    },
    {
      "cell_type": "markdown",
      "metadata": {
        "id": "M_AFKnxtlgh2"
      },
      "source": [
        "### Q8. Create a Python program that uses `multiprocessing.Pool` to compute the square of numbers from 1 to 10 in parallel. Measure the time taken to perform this computation using a pool of different sizes (e.g., 2, 4, 8 processes)."
      ]
    },
    {
      "cell_type": "code",
      "execution_count": 1,
      "metadata": {
        "colab": {
          "base_uri": "https://localhost:8080/"
        },
        "id": "BHFM1xGQli7D",
        "outputId": "d43a4af6-a671-4517-831b-3645f27f9062"
      },
      "outputs": [
        {
          "name": "stdout",
          "output_type": "stream",
          "text": [
            "Pool size: 2, Time taken: 0.03825 seconds, Result: [1, 4, 9, 16, 25, 36, 49, 64, 81, 100]\n",
            "Pool size: 4, Time taken: 0.06831 seconds, Result: [1, 4, 9, 16, 25, 36, 49, 64, 81, 100]\n",
            "Pool size: 8, Time taken: 0.12871 seconds, Result: [1, 4, 9, 16, 25, 36, 49, 64, 81, 100]\n"
          ]
        }
      ],
      "source": [
        "import multiprocessing\n",
        "import time\n",
        "\n",
        "# Function to calculate square of a number\n",
        "def compute_square(n):\n",
        "    return n * n\n",
        "\n",
        "# Function to measure time with different pool sizes\n",
        "def measure_time_with_pool(pool_size):\n",
        "    numbers = list(range(1, 11))  # List of numbers from 1 to 10\n",
        "    start_time = time.time()      # Start time\n",
        "\n",
        "    # Create a Pool with the given pool_size\n",
        "    with multiprocessing.Pool(pool_size) as pool:\n",
        "        # Apply compute_square function in parallel\n",
        "        result = pool.map(compute_square, numbers)\n",
        "\n",
        "    end_time = time.time()        # End time\n",
        "    return result, end_time - start_time  # Return the result and time taken\n",
        "\n",
        "# Test with different pool sizes\n",
        "pool_sizes = [2, 4, 8]\n",
        "for size in pool_sizes:\n",
        "    result, time_taken = measure_time_with_pool(size)\n",
        "    print(f\"Pool size: {size}, Time taken: {time_taken:.5f} seconds, Result: {result}\")\n"
      ]
    }
  ],
  "metadata": {
    "colab": {
      "provenance": []
    },
    "kernelspec": {
      "display_name": "Python 3",
      "language": "python",
      "name": "python3"
    },
    "language_info": {
      "codemirror_mode": {
        "name": "ipython",
        "version": 3
      },
      "file_extension": ".py",
      "mimetype": "text/x-python",
      "name": "python",
      "nbconvert_exporter": "python",
      "pygments_lexer": "ipython3",
      "version": "3.12.1"
    }
  },
  "nbformat": 4,
  "nbformat_minor": 0
}
